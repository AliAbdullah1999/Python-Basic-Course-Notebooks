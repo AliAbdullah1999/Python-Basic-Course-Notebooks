{
 "cells": [
  {
   "cell_type": "markdown",
   "id": "cathedral-trust",
   "metadata": {},
   "source": [
    "# Math Module and its builtin functions"
   ]
  },
  {
   "cell_type": "code",
   "execution_count": 1,
   "id": "canadian-dutch",
   "metadata": {},
   "outputs": [],
   "source": [
    "import math"
   ]
  },
  {
   "cell_type": "code",
   "execution_count": 3,
   "id": "deluxe-rocket",
   "metadata": {},
   "outputs": [
    {
     "name": "stdout",
     "output_type": "stream",
     "text": [
      "enter yout number to be squared 5\n",
      "2.23606797749979\n"
     ]
    }
   ],
   "source": [
    "a =int(input('enter yout number to be squared '))\n",
    "print(math.sqrt(a))"
   ]
  },
  {
   "cell_type": "code",
   "execution_count": 4,
   "id": "textile-patent",
   "metadata": {},
   "outputs": [
    {
     "data": {
      "text/plain": [
       "5.0990195135927845"
      ]
     },
     "execution_count": 4,
     "metadata": {},
     "output_type": "execute_result"
    }
   ],
   "source": [
    "math.sqrt(26)"
   ]
  },
  {
   "cell_type": "code",
   "execution_count": 5,
   "id": "banner-length",
   "metadata": {},
   "outputs": [
    {
     "name": "stdout",
     "output_type": "stream",
     "text": [
      "3.141592653589793\n"
     ]
    }
   ],
   "source": [
    "# print(math.pow(a,2))\n",
    "# print(math.factorial(a))\n",
    "# print(math.remainder(a,2))\n",
    "print(math.pi)"
   ]
  },
  {
   "cell_type": "code",
   "execution_count": 6,
   "id": "native-louis",
   "metadata": {},
   "outputs": [
    {
     "name": "stdout",
     "output_type": "stream",
     "text": [
      "True\n",
      "False\n"
     ]
    }
   ],
   "source": [
    "x=5\n",
    "y=6\n",
    "# #less than\n",
    "# print(x<y)\n",
    "# #greater than\n",
    "# print(x>y)\n",
    "#equal to\n",
    "# print(x==y)\n",
    "#not equal to\n",
    "print(x!=y)\n",
    "#Greater than or equal to \n",
    "print(x>=y)"
   ]
  },
  {
   "cell_type": "code",
   "execution_count": 7,
   "id": "cloudy-nashville",
   "metadata": {},
   "outputs": [
    {
     "name": "stdout",
     "output_type": "stream",
     "text": [
      "yes\n"
     ]
    }
   ],
   "source": [
    "if x == 5:\n",
    "    print('yes')\n",
    "    \n",
    "else:\n",
    "    print(\"No\")\n",
    "    \n",
    "        "
   ]
  },
  {
   "cell_type": "markdown",
   "id": "extreme-tobago",
   "metadata": {},
   "source": [
    "#Binary Operations"
   ]
  },
  {
   "cell_type": "code",
   "execution_count": 12,
   "id": "legitimate-qualification",
   "metadata": {},
   "outputs": [
    {
     "data": {
      "text/plain": [
       "6"
      ]
     },
     "execution_count": 12,
     "metadata": {},
     "output_type": "execute_result"
    }
   ],
   "source": [
    "#anyone\n",
    "y or x"
   ]
  },
  {
   "cell_type": "code",
   "execution_count": 13,
   "id": "compound-property",
   "metadata": {
    "scrolled": true
   },
   "outputs": [
    {
     "data": {
      "text/plain": [
       "'cherry'"
      ]
     },
     "execution_count": 13,
     "metadata": {},
     "output_type": "execute_result"
    }
   ],
   "source": [
    "y and x"
   ]
  },
  {
   "cell_type": "markdown",
   "id": "binary-leisure",
   "metadata": {},
   "source": [
    "#Loops"
   ]
  },
  {
   "cell_type": "code",
   "execution_count": 14,
   "id": "beneficial-cursor",
   "metadata": {
    "scrolled": true
   },
   "outputs": [
    {
     "name": "stdout",
     "output_type": "stream",
     "text": [
      "apple\n",
      "banana\n",
      "cherry\n"
     ]
    }
   ],
   "source": [
    "fruits = [\"apple\", \"banana\", \"cherry\"]\n",
    "for x in fruits:\n",
    "  print(x)"
   ]
  },
  {
   "cell_type": "markdown",
   "id": "mineral-gossip",
   "metadata": {},
   "source": [
    "#Conditional Flow of Control"
   ]
  },
  {
   "cell_type": "code",
   "execution_count": 15,
   "id": "equipped-princeton",
   "metadata": {},
   "outputs": [
    {
     "name": "stdout",
     "output_type": "stream",
     "text": [
      "not found\n"
     ]
    }
   ],
   "source": [
    "if x != 5:\n",
    "    print('not found')\n",
    "else:\n",
    "    print('it is equal to  zero')"
   ]
  },
  {
   "cell_type": "code",
   "execution_count": 16,
   "id": "recovered-gates",
   "metadata": {},
   "outputs": [
    {
     "name": "stdout",
     "output_type": "stream",
     "text": [
      "Enter the number to find if its true2\n",
      "not\n"
     ]
    }
   ],
   "source": [
    "b = int(input('Enter the number to find if its true'))\n",
    "if  b == 5:\n",
    "    print(\"it is\")\n",
    "elif b != 5:\n",
    "    print('not')\n",
    "else:\n",
    "    print('nothing found')"
   ]
  },
  {
   "cell_type": "code",
   "execution_count": 17,
   "id": "respiratory-seattle",
   "metadata": {},
   "outputs": [
    {
     "name": "stdout",
     "output_type": "stream",
     "text": [
      "8\n",
      "5\n",
      "6\n",
      "8\n",
      "8\n",
      "8\n",
      "8\n"
     ]
    }
   ],
   "source": [
    "s = [8,5,6,8]\n",
    "for s in s:\n",
    "    print(s)\n",
    "i = 0\n",
    "while (i<3):\n",
    "    print(s)\n",
    "    i+=1"
   ]
  },
  {
   "cell_type": "code",
   "execution_count": null,
   "id": "renewable-fantasy",
   "metadata": {},
   "outputs": [],
   "source": []
  }
 ],
 "metadata": {
  "kernelspec": {
   "display_name": "Python 3",
   "language": "python",
   "name": "python3"
  },
  "language_info": {
   "codemirror_mode": {
    "name": "ipython",
    "version": 3
   },
   "file_extension": ".py",
   "mimetype": "text/x-python",
   "name": "python",
   "nbconvert_exporter": "python",
   "pygments_lexer": "ipython3",
   "version": "3.9.5"
  }
 },
 "nbformat": 4,
 "nbformat_minor": 5
}
