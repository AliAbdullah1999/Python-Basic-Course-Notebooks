{
 "cells": [
  {
   "cell_type": "markdown",
   "id": "sexual-diabetes",
   "metadata": {},
   "source": [
    "# list data structure and operations on it"
   ]
  },
  {
   "cell_type": "code",
   "execution_count": 1,
   "id": "primary-leone",
   "metadata": {},
   "outputs": [],
   "source": [
    "# list_name = [elements]\n",
    "Students_Marks = [20,30,40,45,5.0,\"car\"]"
   ]
  },
  {
   "cell_type": "code",
   "execution_count": 2,
   "id": "prime-failure",
   "metadata": {},
   "outputs": [
    {
     "data": {
      "text/plain": [
       "40"
      ]
     },
     "execution_count": 2,
     "metadata": {},
     "output_type": "execute_result"
    }
   ],
   "source": [
    "Students_Marks[-4]"
   ]
  },
  {
   "cell_type": "code",
   "execution_count": 3,
   "id": "level-diary",
   "metadata": {},
   "outputs": [],
   "source": [
    "# Normal Index = 0 1 2 3\n",
    "# Reverse_Index -3 -2 -1 "
   ]
  },
  {
   "cell_type": "code",
   "execution_count": 4,
   "id": "alpine-young",
   "metadata": {},
   "outputs": [
    {
     "data": {
      "text/plain": [
       "'car'"
      ]
     },
     "execution_count": 4,
     "metadata": {},
     "output_type": "execute_result"
    }
   ],
   "source": [
    "Students_Marks[-1]"
   ]
  },
  {
   "cell_type": "code",
   "execution_count": 5,
   "id": "capital-breakfast",
   "metadata": {},
   "outputs": [
    {
     "data": {
      "text/plain": [
       "[20, 30, 40, 45, 5.0, 'car']"
      ]
     },
     "execution_count": 5,
     "metadata": {},
     "output_type": "execute_result"
    }
   ],
   "source": [
    "Students_Marks"
   ]
  },
  {
   "cell_type": "code",
   "execution_count": 6,
   "id": "critical-memphis",
   "metadata": {},
   "outputs": [],
   "source": [
    "a = 'string'\n",
    "b = 2\n",
    "\n"
   ]
  },
  {
   "cell_type": "code",
   "execution_count": 7,
   "id": "reduced-chamber",
   "metadata": {},
   "outputs": [
    {
     "data": {
      "text/plain": [
       "'stringstring'"
      ]
     },
     "execution_count": 7,
     "metadata": {},
     "output_type": "execute_result"
    }
   ],
   "source": [
    "a * b"
   ]
  },
  {
   "cell_type": "code",
   "execution_count": 8,
   "id": "viral-discussion",
   "metadata": {},
   "outputs": [],
   "source": [
    "list2 =[50,60,3.5,[2,5,[3,6]]]"
   ]
  },
  {
   "cell_type": "code",
   "execution_count": 9,
   "id": "modular-glenn",
   "metadata": {},
   "outputs": [
    {
     "data": {
      "text/plain": [
       "3"
      ]
     },
     "execution_count": 9,
     "metadata": {},
     "output_type": "execute_result"
    }
   ],
   "source": [
    "list2[3][2][0]"
   ]
  },
  {
   "cell_type": "code",
   "execution_count": 10,
   "id": "simple-tyler",
   "metadata": {},
   "outputs": [],
   "source": [
    "list2.append(2)"
   ]
  },
  {
   "cell_type": "code",
   "execution_count": 11,
   "id": "pediatric-escape",
   "metadata": {},
   "outputs": [
    {
     "data": {
      "text/plain": [
       "[50, 60, 3.5, [2, 5, [3, 6]], 2]"
      ]
     },
     "execution_count": 11,
     "metadata": {},
     "output_type": "execute_result"
    }
   ],
   "source": [
    "list2"
   ]
  },
  {
   "cell_type": "code",
   "execution_count": 12,
   "id": "adult-duncan",
   "metadata": {},
   "outputs": [
    {
     "data": {
      "text/plain": [
       "[50, 60, 3.5]"
      ]
     },
     "execution_count": 12,
     "metadata": {},
     "output_type": "execute_result"
    }
   ],
   "source": [
    "list2[0:3]"
   ]
  },
  {
   "cell_type": "code",
   "execution_count": 13,
   "id": "abandoned-support",
   "metadata": {},
   "outputs": [
    {
     "data": {
      "text/plain": [
       "[3.5, [2, 5, [3, 6]]]"
      ]
     },
     "execution_count": 13,
     "metadata": {},
     "output_type": "execute_result"
    }
   ],
   "source": [
    "list2[-3:-1]"
   ]
  },
  {
   "cell_type": "code",
   "execution_count": 14,
   "id": "delayed-killing",
   "metadata": {},
   "outputs": [
    {
     "data": {
      "text/plain": [
       "[50, 60, 3.5, [2, 5, [3, 6]], 2]"
      ]
     },
     "execution_count": 14,
     "metadata": {},
     "output_type": "execute_result"
    }
   ],
   "source": [
    "list2"
   ]
  },
  {
   "cell_type": "code",
   "execution_count": 15,
   "id": "expressed-research",
   "metadata": {},
   "outputs": [],
   "source": [
    "#  from math import *"
   ]
  },
  {
   "cell_type": "code",
   "execution_count": 16,
   "id": "educated-dimension",
   "metadata": {},
   "outputs": [
    {
     "data": {
      "text/plain": [
       "8"
      ]
     },
     "execution_count": 16,
     "metadata": {},
     "output_type": "execute_result"
    }
   ],
   "source": [
    "2**3"
   ]
  },
  {
   "cell_type": "code",
   "execution_count": 17,
   "id": "lesser-perth",
   "metadata": {},
   "outputs": [],
   "source": [
    "a = 8"
   ]
  },
  {
   "cell_type": "code",
   "execution_count": null,
   "id": "overall-cable",
   "metadata": {},
   "outputs": [],
   "source": [
    "`"
   ]
  }
 ],
 "metadata": {
  "kernelspec": {
   "display_name": "Python 3",
   "language": "python",
   "name": "python3"
  },
  "language_info": {
   "codemirror_mode": {
    "name": "ipython",
    "version": 3
   },
   "file_extension": ".py",
   "mimetype": "text/x-python",
   "name": "python",
   "nbconvert_exporter": "python",
   "pygments_lexer": "ipython3",
   "version": "3.9.5"
  }
 },
 "nbformat": 4,
 "nbformat_minor": 5
}
