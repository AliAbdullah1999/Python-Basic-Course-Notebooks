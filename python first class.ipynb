{
 "cells": [
  {
   "cell_type": "markdown",
   "id": "chronic-writing",
   "metadata": {},
   "source": [
    "# print function in python"
   ]
  },
  {
   "cell_type": "code",
   "execution_count": 2,
   "id": "closed-cloud",
   "metadata": {
    "collapsed": true
   },
   "outputs": [
    {
     "name": "stdout",
     "output_type": "stream",
     "text": [
      "ali\n"
     ]
    }
   ],
   "source": [
    "print(\"ali\")"
   ]
  },
  {
   "cell_type": "markdown",
   "id": "proper-knowing",
   "metadata": {},
   "source": [
    "#Variable and Case Sensitivity"
   ]
  },
  {
   "cell_type": "code",
   "execution_count": 2,
   "id": "joint-graph",
   "metadata": {},
   "outputs": [
    {
     "name": "stdout",
     "output_type": "stream",
     "text": [
      "20 and 40\n"
     ]
    }
   ],
   "source": [
    "a = 20\n",
    "A = 40\n",
    "print(a,\"and\",A)"
   ]
  },
  {
   "cell_type": "markdown",
   "id": "sticky-masters",
   "metadata": {},
   "source": [
    "#data types in python"
   ]
  },
  {
   "cell_type": "code",
   "execution_count": 3,
   "id": "junior-tender",
   "metadata": {},
   "outputs": [
    {
     "name": "stdout",
     "output_type": "stream",
     "text": [
      "the floating is  20.01\n",
      "the string is  pakistan\n"
     ]
    }
   ],
   "source": [
    "integer = 20\n",
    "integer\n",
    "floating = 20.01\n",
    "print(\"the floating is \",floating)\n",
    "string = \"pakistan\"\n",
    "print(\"the string is \",string)"
   ]
  },
  {
   "cell_type": "code",
   "execution_count": 4,
   "id": "liked-draft",
   "metadata": {},
   "outputs": [
    {
     "name": "stdout",
     "output_type": "stream",
     "text": [
      "4\n"
     ]
    }
   ],
   "source": [
    "print(2*2)"
   ]
  },
  {
   "cell_type": "code",
   "execution_count": 5,
   "id": "silent-boston",
   "metadata": {},
   "outputs": [
    {
     "data": {
      "text/plain": [
       "4"
      ]
     },
     "execution_count": 5,
     "metadata": {},
     "output_type": "execute_result"
    }
   ],
   "source": [
    "2+2"
   ]
  },
  {
   "cell_type": "code",
   "execution_count": 6,
   "id": "modified-difference",
   "metadata": {},
   "outputs": [],
   "source": [
    "integer_ = 20\n",
    "\n"
   ]
  },
  {
   "cell_type": "code",
   "execution_count": 7,
   "id": "honey-click",
   "metadata": {},
   "outputs": [],
   "source": [
    "# float = 30"
   ]
  },
  {
   "cell_type": "code",
   "execution_count": 8,
   "id": "studied-myrtle",
   "metadata": {},
   "outputs": [],
   "source": [
    "a = 2"
   ]
  },
  {
   "cell_type": "code",
   "execution_count": 9,
   "id": "central-commons",
   "metadata": {},
   "outputs": [],
   "source": [
    "# type(a)"
   ]
  },
  {
   "cell_type": "code",
   "execution_count": 10,
   "id": "vertical-split",
   "metadata": {},
   "outputs": [],
   "source": [
    "b = \"ghalib\"\n"
   ]
  },
  {
   "cell_type": "code",
   "execution_count": 11,
   "id": "controversial-korean",
   "metadata": {},
   "outputs": [],
   "source": [
    "# type(c)"
   ]
  },
  {
   "cell_type": "code",
   "execution_count": 12,
   "id": "taken-accreditation",
   "metadata": {},
   "outputs": [],
   "source": [
    "# type(b)"
   ]
  },
  {
   "cell_type": "code",
   "execution_count": 13,
   "id": "effective-community",
   "metadata": {},
   "outputs": [
    {
     "name": "stdout",
     "output_type": "stream",
     "text": [
      "the value after multiplication is: ghalibghalib\n"
     ]
    }
   ],
   "source": [
    " print('the value after multiplication is:',a * b)\n",
    "# # print(\"the value after addition  is: \",a+b)\n",
    "# # print(\"the value after suntraction is: \",a-b)\n",
    "# # print(\"the value after division is: \",a/b)\n",
    "# # print(\"the value after modulus is: \",a%b)"
   ]
  },
  {
   "cell_type": "code",
   "execution_count": 14,
   "id": "extra-resident",
   "metadata": {},
   "outputs": [],
   "source": [
    "# b**a"
   ]
  },
  {
   "cell_type": "code",
   "execution_count": 15,
   "id": "ultimate-southwest",
   "metadata": {},
   "outputs": [],
   "source": [
    "d = 20.0\n",
    "int(d)"
   ]
  },
  {
   "cell_type": "code",
   "execution_count": 16,
   "id": "thirty-annex",
   "metadata": {},
   "outputs": [
    {
     "name": "stdout",
     "output_type": "stream",
     "text": [
      "Enter the value of a 5\n",
      "Enter the value of b 5\n",
      "2.7777777777777777\n",
      "1.0\n",
      "9.0\n",
      "9.0\n",
      "9.0\n"
     ]
    }
   ],
   "source": [
    "a = float(input(\"Enter the value of a \"))\n",
    "b = int(input(\"Enter the value of b \"))\n",
    "c = 9\n",
    "print(a*b/c)\n",
    "print(a+b-c)\n",
    "print(a-b+c)\n",
    "print(a/b*c)\n",
    "print(a%b+c)"
   ]
  },
  {
   "cell_type": "code",
   "execution_count": 17,
   "id": "fresh-depression",
   "metadata": {},
   "outputs": [
    {
     "data": {
      "text/plain": [
       "'PAKISTAN1'"
      ]
     },
     "execution_count": 17,
     "metadata": {},
     "output_type": "execute_result"
    }
   ],
   "source": [
    "s = \"Pakistan1\"\n",
    "t = s.upper()\n",
    "t"
   ]
  },
  {
   "cell_type": "code",
   "execution_count": 18,
   "id": "preliminary-accessory",
   "metadata": {},
   "outputs": [
    {
     "data": {
      "text/plain": [
       "'pakistan1'"
      ]
     },
     "execution_count": 18,
     "metadata": {},
     "output_type": "execute_result"
    }
   ],
   "source": [
    "t.lower()"
   ]
  },
  {
   "cell_type": "code",
   "execution_count": 24,
   "id": "canadian-phenomenon",
   "metadata": {},
   "outputs": [
    {
     "ename": "ValueError",
     "evalue": "invalid literal for int() with base 10: 'pakistan'",
     "output_type": "error",
     "traceback": [
      "\u001b[0;31m---------------------------------------------------------------------------\u001b[0m",
      "\u001b[0;31mValueError\u001b[0m                                Traceback (most recent call last)",
      "\u001b[0;32m<ipython-input-24-fa1d67cbf53d>\u001b[0m in \u001b[0;36m<module>\u001b[0;34m\u001b[0m\n\u001b[1;32m      1\u001b[0m \u001b[0mf\u001b[0m \u001b[0;34m=\u001b[0m \u001b[0;34m\"pakistan\"\u001b[0m\u001b[0;34m\u001b[0m\u001b[0;34m\u001b[0m\u001b[0m\n\u001b[0;32m----> 2\u001b[0;31m \u001b[0mint\u001b[0m\u001b[0;34m(\u001b[0m\u001b[0mf\u001b[0m\u001b[0;34m)\u001b[0m\u001b[0;34m\u001b[0m\u001b[0;34m\u001b[0m\u001b[0m\n\u001b[0m",
      "\u001b[0;31mValueError\u001b[0m: invalid literal for int() with base 10: 'pakistan'"
     ]
    }
   ],
   "source": [
    "f = \"pakistan\"\n",
    "int(f)"
   ]
  },
  {
   "cell_type": "code",
   "execution_count": 22,
   "id": "digital-laser",
   "metadata": {},
   "outputs": [
    {
     "data": {
      "text/plain": [
       "'PAKISTAN1PAKISTAN1PAKISTAN1PAKISTAN1PAKISTAN1'"
      ]
     },
     "execution_count": 22,
     "metadata": {},
     "output_type": "execute_result"
    }
   ],
   "source": [
    "t * 5"
   ]
  },
  {
   "cell_type": "code",
   "execution_count": 23,
   "id": "nonprofit-asian",
   "metadata": {},
   "outputs": [
    {
     "ename": "TypeError",
     "evalue": "can only concatenate str (not \"float\") to str",
     "output_type": "error",
     "traceback": [
      "\u001b[0;31m---------------------------------------------------------------------------\u001b[0m",
      "\u001b[0;31mTypeError\u001b[0m                                 Traceback (most recent call last)",
      "\u001b[0;32m<ipython-input-23-aea9ddd4ff9a>\u001b[0m in \u001b[0;36m<module>\u001b[0;34m\u001b[0m\n\u001b[0;32m----> 1\u001b[0;31m \u001b[0mt\u001b[0m \u001b[0;34m+\u001b[0m \u001b[0ma\u001b[0m\u001b[0;34m\u001b[0m\u001b[0;34m\u001b[0m\u001b[0m\n\u001b[0m",
      "\u001b[0;31mTypeError\u001b[0m: can only concatenate str (not \"float\") to str"
     ]
    }
   ],
   "source": [
    "t + a"
   ]
  },
  {
   "cell_type": "code",
   "execution_count": 25,
   "id": "acknowledged-title",
   "metadata": {},
   "outputs": [
    {
     "data": {
      "text/plain": [
       "2"
      ]
     },
     "execution_count": 25,
     "metadata": {},
     "output_type": "execute_result"
    }
   ],
   "source": [
    "r = \"2\"\n",
    "int(r)"
   ]
  },
  {
   "cell_type": "code",
   "execution_count": null,
   "id": "sporting-turner",
   "metadata": {},
   "outputs": [],
   "source": []
  }
 ],
 "metadata": {
  "kernelspec": {
   "display_name": "Python 3",
   "language": "python",
   "name": "python3"
  },
  "language_info": {
   "codemirror_mode": {
    "name": "ipython",
    "version": 3
   },
   "file_extension": ".py",
   "mimetype": "text/x-python",
   "name": "python",
   "nbconvert_exporter": "python",
   "pygments_lexer": "ipython3",
   "version": "3.9.5"
  }
 },
 "nbformat": 4,
 "nbformat_minor": 5
}
